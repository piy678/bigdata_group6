{
 "cells": [
  {
   "cell_type": "markdown",
   "id": "7449a6ab-a8b8-4a9f-9602-c8c1ca96e2c5",
   "metadata": {},
   "source": [
    "# Kafka and Spark Streaming Exercise\n",
    "\n",
    "**INFORMATION**: This exercise is easier on the cluster!\n",
    "\n",
    "Kafka is an excellent tool for data engineering projects due to its distributed, fault-tolerant, and scalable architecture, which facilitates real-time data streaming and processing. It serves as a highly reliable messaging system that efficiently handles large volumes of data streams from diverse sources. Kafka's ability to decouple data producers from consumers and its support for parallel data processing make it ideal for building robust and scalable data pipelines. Additionally, Kafka's durability and fault-tolerance ensure that data is safely persisted and replicated across nodes, minimizing the risk of data loss and ensuring continuous data availability for downstream applications and analytics.\n",
    "\n",
    "Spark Streaming enables the real-time processing of data streams with high throughput and low latency. It seamlessly integrates with Apache Spark's core APIs, allowing developers to leverage Spark's powerful data processing capabilities for streaming data. Spark Streaming supports a wide range of data sources, including Kafka, Flume, and HDFS, and can process data in near real-time, making it ideal for applications that require instant insights and timely responses."
   ]
  },
  {
   "cell_type": "markdown",
   "id": "60416d6d-a703-4609-9001-93d2439c76f8",
   "metadata": {},
   "source": [
    "Use Python, ```pyspark```, ```pandas```, ```confluent-kafka``` and/or ```kafka-python``` to send messages to a Kafka topic and analyse them with Spark Streaming:"
   ]
  },
  {
   "cell_type": "markdown",
   "id": "a4874f87",
   "metadata": {},
   "source": [
    "# Kafka Streaming mit Musikdaten (Top 100 gestreamte Songs)\n",
    "\n",
    "In diesem Notebook wird gezeigt, wie man mit Apache Kafka und Spark Streaming Daten in Echtzeit verarbeitet. Als Datenquelle verwenden wir eine CSV-Datei mit den 100 meistgestreamten Songs, z. B. basierend auf Spotify-Statistiken.\n",
    "\n",
    "Ziel:\n",
    "- Die Songs werden per Kafka Producer an ein Kafka Topic gesendet.\n",
    "- Spark Structured Streaming liest dieses Topic aus, verarbeitet die Daten und visualisiert z. B. die beliebtesten Künstler."
   ]
  },
  {
   "cell_type": "markdown",
   "id": "0bbd5c42-0181-452e-a6db-2cd50258ff73",
   "metadata": {},
   "source": [
    "# Kafka"
   ]
  },
  {
   "cell_type": "code",
   "execution_count": 1,
   "id": "650f0b6c0ce96f27",
   "metadata": {
    "ExecuteTime": {
     "end_time": "2025-06-12T11:18:30.214360Z",
     "start_time": "2025-06-12T11:18:30.009346Z"
    }
   },
   "outputs": [],
   "source": [
    "import os\n",
    "import sys\n",
    "from pyspark.sql import SparkSession\n",
    "os.environ[\"JAVA_HOME\"] = \"C:\\\\Program Files\\\\Eclipse Adoptium\\\\jdk-11.0.27.6-hotspot\"\n",
    "os.environ[\"PYSPARK_PYTHON\"] = sys.executable"
   ]
  },
  {
   "cell_type": "markdown",
   "id": "33d33407-639f-40b3-ac6b-96a00f6a01a4",
   "metadata": {},
   "source": [
    "## Import Necessary Libraries"
   ]
  },
  {
   "cell_type": "code",
   "execution_count": 2,
   "id": "88e8b718-e0b9-42c0-a616-4328fa7a22ca",
   "metadata": {
    "ExecuteTime": {
     "end_time": "2025-06-12T11:18:39.951034Z",
     "start_time": "2025-06-12T11:18:35.298902Z"
    }
   },
   "outputs": [
    {
     "name": "stdout",
     "output_type": "stream",
     "text": [
      "Requirement already satisfied: kafka-python in c:\\users\\pinar\\downloads\\kafka_spark_streaming\\.venv\\lib\\site-packages (2.2.11)\n",
      "Requirement already satisfied: confluent-kafka in c:\\users\\pinar\\downloads\\kafka_spark_streaming\\.venv\\lib\\site-packages (2.10.0)\n",
      "Requirement already satisfied: pyspark in c:\\users\\pinar\\downloads\\kafka_spark_streaming\\.venv\\lib\\site-packages (3.4.2)\n",
      "Requirement already satisfied: py4j==0.10.9.7 in c:\\users\\pinar\\downloads\\kafka_spark_streaming\\.venv\\lib\\site-packages (from pyspark) (0.10.9.7)\n"
     ]
    }
   ],
   "source": [
    " # TODO\n",
    "!pip install kafka-python\n",
    "!pip install confluent-kafka\n",
    "!pip install pyspark"
   ]
  },
  {
   "cell_type": "markdown",
   "id": "c3f30822",
   "metadata": {},
   "source": [
    "## Load a dataset to stream\n",
    "Select a suitable dataset from previous exercises and split it into individual JSON messages."
   ]
  },
  {
   "cell_type": "code",
   "execution_count": 3,
   "id": "83679da7-1faf-4697-8e9a-14a30a6ff728",
   "metadata": {
    "ExecuteTime": {
     "end_time": "2025-06-12T11:18:44.332413Z",
     "start_time": "2025-06-12T11:18:43.904237Z"
    }
   },
   "outputs": [],
   "source": [
    "# TODO\n",
    "import pandas as pd\n",
    "import json\n",
    "df = pd.read_csv(\n",
    "    \"Top_100_most_Streamed.csv\")\n",
    "df.columns = [col.replace('.', '_') for col in df.columns]\n",
    "df[\"year\"] = df[\"year\"].astype(str)\n",
    "df[\"length\"] = df[\"length\"].astype(str)\n",
    "json_messages = df.to_dict(orient=\"records\")\n"
   ]
  },
  {
   "cell_type": "markdown",
   "id": "90f5be54",
   "metadata": {},
   "source": [
    "## Create a producer and stream the messages\n",
    "You need to use a Kafka producer to connect to a broker and send the messages to a topic."
   ]
  },
  {
   "cell_type": "code",
   "execution_count": 4,
   "id": "5de2e4db",
   "metadata": {
    "ExecuteTime": {
     "end_time": "2025-06-12T11:18:50.917744Z",
     "start_time": "2025-06-12T11:18:48.090006Z"
    }
   },
   "outputs": [
    {
     "ename": "NoBrokersAvailable",
     "evalue": "NoBrokersAvailable",
     "output_type": "error",
     "traceback": [
      "\u001b[1;31m---------------------------------------------------------------------------\u001b[0m",
      "\u001b[1;31mNoBrokersAvailable\u001b[0m                        Traceback (most recent call last)",
      "Cell \u001b[1;32mIn[4], line 11\u001b[0m\n\u001b[0;32m      9\u001b[0m df\u001b[38;5;241m.\u001b[39mcolumns \u001b[38;5;241m=\u001b[39m df\u001b[38;5;241m.\u001b[39mcolumns\u001b[38;5;241m.\u001b[39mstr\u001b[38;5;241m.\u001b[39mstrip()\u001b[38;5;241m.\u001b[39mstr\u001b[38;5;241m.\u001b[39mlower()\u001b[38;5;241m.\u001b[39mstr\u001b[38;5;241m.\u001b[39mreplace(\u001b[38;5;124m\"\u001b[39m\u001b[38;5;124m.\u001b[39m\u001b[38;5;124m\"\u001b[39m, \u001b[38;5;124m\"\u001b[39m\u001b[38;5;124m_\u001b[39m\u001b[38;5;124m\"\u001b[39m)\u001b[38;5;241m.\u001b[39mstr\u001b[38;5;241m.\u001b[39mreplace(\u001b[38;5;124m\"\u001b[39m\u001b[38;5;124m \u001b[39m\u001b[38;5;124m\"\u001b[39m, \u001b[38;5;124m\"\u001b[39m\u001b[38;5;124m_\u001b[39m\u001b[38;5;124m\"\u001b[39m)\n\u001b[0;32m     10\u001b[0m json_messages \u001b[38;5;241m=\u001b[39m df\u001b[38;5;241m.\u001b[39mto_dict(orient\u001b[38;5;241m=\u001b[39m\u001b[38;5;124m\"\u001b[39m\u001b[38;5;124mrecords\u001b[39m\u001b[38;5;124m\"\u001b[39m)\n\u001b[1;32m---> 11\u001b[0m producer \u001b[38;5;241m=\u001b[39m \u001b[43mKafkaProducer\u001b[49m\u001b[43m(\u001b[49m\u001b[43mbootstrap_servers\u001b[49m\u001b[38;5;241;43m=\u001b[39;49m\u001b[38;5;124;43m'\u001b[39;49m\u001b[38;5;124;43m172.29.16.102:9092\u001b[39;49m\u001b[38;5;124;43m'\u001b[39;49m\u001b[43m)\u001b[49m\n\u001b[0;32m     13\u001b[0m \u001b[38;5;28;01mfor\u001b[39;00m msg \u001b[38;5;129;01min\u001b[39;00m json_messages:\n\u001b[0;32m     14\u001b[0m     message \u001b[38;5;241m=\u001b[39m json\u001b[38;5;241m.\u001b[39mdumps(msg)\u001b[38;5;241m.\u001b[39mencode(\u001b[38;5;124m\"\u001b[39m\u001b[38;5;124mutf-8\u001b[39m\u001b[38;5;124m\"\u001b[39m)\n",
      "File \u001b[1;32m~\\Downloads\\kafka_spark_streaming\\.venv\\lib\\site-packages\\kafka\\producer\\kafka.py:481\u001b[0m, in \u001b[0;36mKafkaProducer.__init__\u001b[1;34m(self, **configs)\u001b[0m\n\u001b[0;32m    478\u001b[0m \u001b[38;5;28;01melse\u001b[39;00m:\n\u001b[0;32m    479\u001b[0m     \u001b[38;5;28mself\u001b[39m\u001b[38;5;241m.\u001b[39m_metrics \u001b[38;5;241m=\u001b[39m \u001b[38;5;28;01mNone\u001b[39;00m\n\u001b[1;32m--> 481\u001b[0m client \u001b[38;5;241m=\u001b[39m \u001b[38;5;28mself\u001b[39m\u001b[38;5;241m.\u001b[39mconfig[\u001b[38;5;124m'\u001b[39m\u001b[38;5;124mkafka_client\u001b[39m\u001b[38;5;124m'\u001b[39m](\n\u001b[0;32m    482\u001b[0m     metrics\u001b[38;5;241m=\u001b[39m\u001b[38;5;28mself\u001b[39m\u001b[38;5;241m.\u001b[39m_metrics, metric_group_prefix\u001b[38;5;241m=\u001b[39m\u001b[38;5;124m'\u001b[39m\u001b[38;5;124mproducer\u001b[39m\u001b[38;5;124m'\u001b[39m,\n\u001b[0;32m    483\u001b[0m     wakeup_timeout_ms\u001b[38;5;241m=\u001b[39m\u001b[38;5;28mself\u001b[39m\u001b[38;5;241m.\u001b[39mconfig[\u001b[38;5;124m'\u001b[39m\u001b[38;5;124mmax_block_ms\u001b[39m\u001b[38;5;124m'\u001b[39m],\n\u001b[0;32m    484\u001b[0m     \u001b[38;5;241m*\u001b[39m\u001b[38;5;241m*\u001b[39m\u001b[38;5;28mself\u001b[39m\u001b[38;5;241m.\u001b[39mconfig)\n\u001b[0;32m    486\u001b[0m \u001b[38;5;66;03m# Get auto-discovered / normalized version from client\u001b[39;00m\n\u001b[0;32m    487\u001b[0m \u001b[38;5;28mself\u001b[39m\u001b[38;5;241m.\u001b[39mconfig[\u001b[38;5;124m'\u001b[39m\u001b[38;5;124mapi_version\u001b[39m\u001b[38;5;124m'\u001b[39m] \u001b[38;5;241m=\u001b[39m client\u001b[38;5;241m.\u001b[39mconfig[\u001b[38;5;124m'\u001b[39m\u001b[38;5;124mapi_version\u001b[39m\u001b[38;5;124m'\u001b[39m]\n",
      "File \u001b[1;32m~\\Downloads\\kafka_spark_streaming\\.venv\\lib\\site-packages\\kafka\\client_async.py:262\u001b[0m, in \u001b[0;36mKafkaClient.__init__\u001b[1;34m(self, **configs)\u001b[0m\n\u001b[0;32m    260\u001b[0m \u001b[38;5;66;03m# Check Broker Version if not set explicitly\u001b[39;00m\n\u001b[0;32m    261\u001b[0m \u001b[38;5;28;01mif\u001b[39;00m \u001b[38;5;28mself\u001b[39m\u001b[38;5;241m.\u001b[39mconfig[\u001b[38;5;124m'\u001b[39m\u001b[38;5;124mapi_version\u001b[39m\u001b[38;5;124m'\u001b[39m] \u001b[38;5;129;01mis\u001b[39;00m \u001b[38;5;28;01mNone\u001b[39;00m:\n\u001b[1;32m--> 262\u001b[0m     \u001b[38;5;28mself\u001b[39m\u001b[38;5;241m.\u001b[39mconfig[\u001b[38;5;124m'\u001b[39m\u001b[38;5;124mapi_version\u001b[39m\u001b[38;5;124m'\u001b[39m] \u001b[38;5;241m=\u001b[39m \u001b[38;5;28;43mself\u001b[39;49m\u001b[38;5;241;43m.\u001b[39;49m\u001b[43mcheck_version\u001b[49m\u001b[43m(\u001b[49m\u001b[43m)\u001b[49m\n\u001b[0;32m    263\u001b[0m \u001b[38;5;28;01melif\u001b[39;00m \u001b[38;5;28mself\u001b[39m\u001b[38;5;241m.\u001b[39mconfig[\u001b[38;5;124m'\u001b[39m\u001b[38;5;124mapi_version\u001b[39m\u001b[38;5;124m'\u001b[39m] \u001b[38;5;129;01min\u001b[39;00m BROKER_API_VERSIONS:\n\u001b[0;32m    264\u001b[0m     \u001b[38;5;28mself\u001b[39m\u001b[38;5;241m.\u001b[39m_api_versions \u001b[38;5;241m=\u001b[39m BROKER_API_VERSIONS[\u001b[38;5;28mself\u001b[39m\u001b[38;5;241m.\u001b[39mconfig[\u001b[38;5;124m'\u001b[39m\u001b[38;5;124mapi_version\u001b[39m\u001b[38;5;124m'\u001b[39m]]\n",
      "File \u001b[1;32m~\\Downloads\\kafka_spark_streaming\\.venv\\lib\\site-packages\\kafka\\client_async.py:1074\u001b[0m, in \u001b[0;36mKafkaClient.check_version\u001b[1;34m(self, node_id, timeout, **kwargs)\u001b[0m\n\u001b[0;32m   1072\u001b[0m     \u001b[38;5;28;01mraise\u001b[39;00m Errors\u001b[38;5;241m.\u001b[39mNodeNotReadyError(node_id)\n\u001b[0;32m   1073\u001b[0m \u001b[38;5;28;01melse\u001b[39;00m:\n\u001b[1;32m-> 1074\u001b[0m     \u001b[38;5;28;01mraise\u001b[39;00m Errors\u001b[38;5;241m.\u001b[39mNoBrokersAvailable()\n",
      "\u001b[1;31mNoBrokersAvailable\u001b[0m: NoBrokersAvailable"
     ]
    }
   ],
   "source": [
    "# TODO\n",
    "import pandas as pd\n",
    "import json\n",
    "from kafka import KafkaProducer\n",
    "import time\n",
    "\n",
    "df = pd.read_csv(\n",
    "    \"Top_100_most_Streamed.csv\")\n",
    "df.columns = df.columns.str.strip().str.lower().str.replace(\".\", \"_\").str.replace(\" \", \"_\")\n",
    "json_messages = df.to_dict(orient=\"records\")\n",
    "producer = KafkaProducer(bootstrap_servers='172.29.16.102:9092')\n",
    "\n",
    "for msg in json_messages:\n",
    "    message = json.dumps(msg).encode(\"utf-8\")\n",
    "    producer.send(\"music_data\", message)\n",
    "    print(f\"Gesendet: {msg.get('title', '??')} von {msg.get('artist', '??')}\")\n",
    "    time.sleep(0.5)\n",
    "producer.flush()\n",
    "print(\"Alle Songs erfolgreich gesendet.\")"
   ]
  },
  {
   "cell_type": "markdown",
   "id": "79d8c646",
   "metadata": {},
   "source": [
    "## Create a consumer and check if the messages can be read\n",
    "A Kafka consumer can subscribe to one or more topics and process the messages. Display the messages from the previous step."
   ]
  },
  {
   "cell_type": "code",
   "execution_count": 8,
   "id": "365a7082",
   "metadata": {
    "ExecuteTime": {
     "end_time": "2025-06-12T11:00:25.485063Z",
     "start_time": "2025-06-12T10:59:19.132132Z"
    }
   },
   "outputs": [
    {
     "name": "stdout",
     "output_type": "stream",
     "text": [
      "Starte Kafka Consumer...\n",
      "\n",
      "Empfangen: Blinding Lights\n",
      "von The Weeknd\n",
      "Empfangen: Watermelon Sugar\n",
      "von Harry Styles\n",
      "Empfangen: Mood (feat. iann dior)\n",
      "von 24kGoldn\n",
      "Empfangen: Someone You Loved\n",
      "von Lewis Capaldi\n",
      "Empfangen: Perfect\n",
      "von Ed Sheeran\n",
      "Empfangen: Believer\n",
      "von Imagine Dragons\n",
      "Empfangen: lovely (with Khalid)\n",
      "von Billie Eilish\n",
      "Empfangen: Circles\n",
      "von Post Malone\n",
      "Empfangen: Shape of You\n",
      "von Ed Sheeran\n",
      "Empfangen: Memories\n",
      "von Maroon 5\n",
      "Empfangen: Closer\n",
      "von The Chainsmokers\n",
      "Empfangen: bad guy\n",
      "von Billie Eilish\n",
      "Empfangen: Say You Won't Let Go\n",
      "von James Arthur\n",
      "Empfangen: Lucid Dreams\n",
      "von Juice WRLD\n",
      "Empfangen: All of Me\n",
      "von John Legend\n",
      "Empfangen: 7 rings\n",
      "von Ariana Grande\n",
      "Empfangen: Jocelyn Flores\n",
      "von XXXTENTACION\n",
      "Empfangen: goosebumps\n",
      "von Travis Scott\n",
      "Empfangen: Wake Me Up\n",
      "von Avicii\n",
      "Empfangen: ROCKSTAR (feat. Roddy Ricch)\n",
      "von DaBaby\n",
      "Empfangen: rockstar (feat. 21 Savage)\n",
      "von Post Malone\n",
      "Empfangen: Photograph\n",
      "von Ed Sheeran\n",
      "Empfangen: SAD!\n",
      "von XXXTENTACION\n",
      "Empfangen: SICKO MODE\n",
      "von Travis Scott\n",
      "Empfangen: Stressed Out\n",
      "von Twenty One Pilots\n",
      "Empfangen: Roses - Imanbek Remix\n",
      "von SAINt JHN\n",
      "Empfangen: The Box\n",
      "von Roddy Ricch\n",
      "Empfangen: The Hills\n",
      "von The Weeknd\n",
      "Empfangen: Sunflower - Spider-Man: Into the Spider-Verse\n",
      "von Post Malone\n",
      "Empfangen: Thinking out Loud\n",
      "von Ed Sheeran\n",
      "Empfangen: Starboy\n",
      "von The Weeknd\n",
      "Empfangen: Love Yourself\n",
      "von Justin Bieber\n",
      "Empfangen: Something Just Like This\n",
      "von The Chainsmokers\n",
      "Empfangen: Shallow\n",
      "von Lady Gaga\n",
      "Empfangen: Thunder\n",
      "von Imagine Dragons\n",
      "Empfangen: XO Tour Llif3\n",
      "von Lil Uzi Vert\n",
      "Empfangen: Take Me To Church\n",
      "von Hozier\n",
      "Empfangen: Happier\n",
      "von Marshmello\n",
      "Empfangen: thank u, next\n",
      "von Ariana Grande\n",
      "Empfangen: Counting Stars\n",
      "von OneRepublic\n",
      "Empfangen: Can't Hold Us - feat. Ray Dalton\n",
      "von Macklemore & Ryan Lewis\n",
      "Empfangen: Señorita\n",
      "von Shawn Mendes\n",
      "Empfangen: God's Plan\n",
      "von Drake\n",
      "Empfangen: Don't Start Now\n",
      "von Dua Lipa\n",
      "Empfangen: Bohemian Rhapsody - Remastered 2011\n",
      "von Queen\n",
      "Empfangen: HUMBLE.\n",
      "von Kendrick Lamar\n",
      "Empfangen: Let Me Love You\n",
      "von DJ Snake\n",
      "Empfangen: Congratulations\n",
      "von Post Malone\n",
      "Empfangen: Stay With Me\n",
      "von Sam Smith\n",
      "Empfangen: Treat You Better\n",
      "von Shawn Mendes\n",
      "Empfangen: Uptown Funk (feat. Bruno Mars)\n",
      "von Mark Ronson\n",
      "Empfangen: I Like Me Better\n",
      "von Lauv\n",
      "Empfangen: when the party's over\n",
      "von Billie Eilish\n",
      "Empfangen: Mr. Brightside\n",
      "von The Killers\n",
      "Empfangen: Dance Monkey\n",
      "von Tones And I\n",
      "Empfangen: Havana (feat. Young Thug)\n",
      "von Camila Cabello\n",
      "Empfangen: Better Now\n",
      "von Post Malone\n",
      "Empfangen: I Don't Care (with Justin Bieber)\n",
      "von Ed Sheeran\n",
      "Empfangen: Unforgettable\n",
      "von French Montana\n",
      "Empfangen: Too Good At Goodbyes\n",
      "von Sam Smith\n",
      "Empfangen: Riptide\n",
      "von Vance Joy\n",
      "Empfangen: That's What I Like\n",
      "von Bruno Mars\n",
      "Empfangen: See You Again (feat. Charlie Puth)\n",
      "von Wiz Khalifa\n",
      "Empfangen: One Kiss (with Dua Lipa)\n",
      "von Calvin Harris\n",
      "Empfangen: Heathens\n",
      "von Twenty One Pilots\n",
      "Empfangen: Demons\n",
      "von Imagine Dragons\n",
      "Empfangen: Youngblood\n",
      "von 5 Seconds of Summer\n",
      "Empfangen: Old Town Road - Remix\n",
      "von Lil Nas X\n",
      "Empfangen: I'm Yours\n",
      "von Jason Mraz\n",
      "Empfangen: Attention\n",
      "von Charlie Puth\n",
      "Empfangen: New Rules\n",
      "von Dua Lipa\n",
      "Empfangen: Sorry\n",
      "von Justin Bieber\n",
      "Empfangen: Don't Let Me Down\n",
      "von The Chainsmokers\n",
      "Empfangen: 7 Years\n",
      "von Lukas Graham\n",
      "Empfangen: I Like It\n",
      "von Cardi B\n",
      "Empfangen: I Fall Apart\n",
      "von Post Malone\n",
      "Empfangen: We Don't Talk Anymore (feat. Selena Gomez)\n",
      "von Charlie Puth\n",
      "Empfangen: Can't Feel My Face\n",
      "von The Weeknd\n",
      "Empfangen: Despacito\n",
      "von Luis Fonsi\n",
      "Empfangen: Psycho (feat. Ty Dolla $ign)\n",
      "von Post Malone\n",
      "Empfangen: Stitches\n",
      "von Shawn Mendes\n",
      "Empfangen: What Do You Mean?\n",
      "von Justin Bieber\n",
      "Empfangen: Wonderwall - Remastered\n",
      "von Oasis\n",
      "Empfangen: Radioactive\n",
      "von Imagine Dragons\n",
      "Empfangen: Eastside (with Halsey & Khalid)\n",
      "von benny blanco\n",
      "Empfangen: Cheerleader - Felix Jaehn Remix Radio Edit\n",
      "von OMI\n",
      "Empfangen: Cheap Thrills\n",
      "von Sia\n",
      "Empfangen: Girls Like You (feat. Cardi B) - Cardi B Version\n",
      "von Maroon 5\n",
      "Empfangen: Faded\n",
      "von Alan Walker\n",
      "Empfangen: Let Her Go\n",
      "von Passenger\n",
      "Empfangen: CAN'T STOP THE FEELING! (from DreamWorks Animation's \"TROLLS\")\n",
      "von Justin Timberlake\n",
      "Empfangen: Lean On\n",
      "von Major Lazer\n",
      "Empfangen: Despacito - Remix\n",
      "von Luis Fonsi\n",
      "Empfangen: Lose Yourself\n",
      "von Eminem\n",
      "Empfangen: Without Me (with Juice WRLD)\n",
      "von Halsey\n",
      "Empfangen: One Dance\n",
      "von Drake\n",
      "Empfangen: Sugar\n",
      "von Maroon 5\n",
      "Empfangen: Emotions\n",
      "von Mark Mendy\n",
      "Empfangen: Cold Water\n",
      "von Major Lazer\n",
      "Empfangen: I Took A Pill In Ibiza - Seeb Remix\n",
      "von Mike Posner\n"
     ]
    }
   ],
   "source": [
    "# TODO\n",
    "from kafka import KafkaConsumer\n",
    "import json\n",
    "consumer = KafkaConsumer(\n",
    "    'music_data',\n",
    "    bootstrap_servers='localhost:9092',\n",
    "    auto_offset_reset='earliest',\n",
    "    enable_auto_commit=True,\n",
    "    group_id='music_consumer_group',\n",
    "    value_deserializer=lambda x: json.loads(x.decode('utf-8')),\n",
    "        consumer_timeout_ms=60000\n",
    ")\n",
    "import time\n",
    "start_time = time.time()\n",
    "max_duration = 1 * 60\n",
    "print(\"Starte Kafka Consumer...\\n\")\n",
    "for message in consumer:\n",
    "    song = message.value\n",
    "    print(f\"Empfangen: {song.get('title', '??')}\")\n",
    "    print(f\"von {song.get('artist', '??')}\")\n",
    "    if time.time() - start_time > max_duration:\n",
    "        print(\"\\n1 Minuten erreicht. Consumer wird beendet.\")\n",
    "        break\n",
    "consumer.close()"
   ]
  },
  {
   "cell_type": "markdown",
   "id": "88bdc679",
   "metadata": {},
   "source": [
    "# Kafka and Spark Streaming\n",
    "Spark can act as a Kafka consumer. This gives you the benefits of the Spark framework to process the Kafka messages. "
   ]
  },
  {
   "cell_type": "markdown",
   "id": "ea3ad093",
   "metadata": {},
   "source": [
    "## Spark Context and Session\n",
    "\n",
    "Initialize Spark Context and Spark Session"
   ]
  },
  {
   "cell_type": "code",
   "execution_count": null,
   "id": "377c0beb",
   "metadata": {
    "ExecuteTime": {
     "start_time": "2025-06-12T11:06:50.995093Z"
    },
    "jupyter": {
     "is_executing": true
    }
   },
   "outputs": [],
   "source": [
    "\n",
    "from pyspark.sql import SparkSession\n",
    "from pyspark.sql.functions import *\n",
    "from pyspark.sql.types import *\n",
    "spark = SparkSession.builder \\\n",
    "    .appName(\"My PySpark App\") \\\n",
    ".master(\"spark://172.29.16.102:7077\") \\\n",
    "    .config(\"spark.jars.packages\", \"org.apache.spark:spark-sql-kafka-0-10_2.12:3.4.2\") \\\n",
    "    .getOrCreate()"
   ]
  },
  {
   "cell_type": "markdown",
   "id": "2631aa66",
   "metadata": {},
   "source": [
    "## Create a Spark DataFrame from a Kafka stream"
   ]
  },
  {
   "cell_type": "code",
   "execution_count": null,
   "id": "d7de2498",
   "metadata": {
    "ExecuteTime": {
     "start_time": "2025-06-12T10:51:05.404584Z"
    }
   },
   "outputs": [],
   "source": [
    "import json\n",
    "from kafka import KafkaConsumer\n",
    "from pyspark.sql import SparkSession, Row\n",
    "\n",
    "consumer = KafkaConsumer(\n",
    "    'music_data',\n",
    "    bootstrap_servers='localhost:9092',\n",
    "    auto_offset_reset='earliest',\n",
    "    enable_auto_commit=True,\n",
    "    value_deserializer=lambda m: json.loads(m.decode('utf-8')),\n",
    "    consumer_timeout_ms=2000\n",
    ")\n",
    "\n",
    "messages = [msg.value for msg in consumer if isinstance(msg.value, dict)]\n",
    "consumer.close()\n",
    "\n",
    "EXPECTED_KEYS = [\"artist\", \"title\", \"year\", \"top_genre\", \"popularity\"]\n",
    "\n",
    "rows = []\n",
    "for i, msg in enumerate(messages):\n",
    "    try:\n",
    "        clean_msg = {key: msg.get(key, None) for key in EXPECTED_KEYS}\n",
    "        rows.append(Row(**clean_msg))\n",
    "    except Exception as e:\n",
    "        print(f\"[{i}] Fehler bei Nachricht: {msg}\\n{e}\")\n",
    "\n",
    "if rows:\n",
    "    df = spark.createDataFrame(rows)\n",
    "    df.show(truncate=False)\n",
    "    df.printSchema()\n",
    "else:\n",
    "    print(\"Keine gültigen Daten empfangen.\")\n"
   ]
  },
  {
   "cell_type": "markdown",
   "id": "56537216",
   "metadata": {},
   "source": [
    "## Convert the binary Kafka data to strings"
   ]
  },
  {
   "cell_type": "code",
   "execution_count": 11,
   "id": "f7ed4c99",
   "metadata": {
    "ExecuteTime": {
     "end_time": "2025-06-12T08:57:25.750307Z",
     "start_time": "2025-06-12T08:57:14.765923Z"
    }
   },
   "outputs": [],
   "source": [
    "import time\n",
    "from pyspark.sql import SparkSession\n",
    "from pyspark.sql.functions import col\n",
    "\n",
    "df_raw = spark.readStream \\\n",
    "    .format(\"kafka\") \\\n",
    "    .option(\"kafka.bootstrap.servers\", \"localhost:9092\") \\\n",
    "    .option(\"subscribe\", \"music_data\") \\\n",
    "    .option(\"startingOffsets\", \"earliest\") \\\n",
    "    .load()\n",
    "\n",
    "df_strings = df_raw.select(col(\"value\").cast(\"string\").alias(\"value_str\"))\n",
    "\n",
    "query = df_strings.writeStream \\\n",
    "    .outputMode(\"append\") \\\n",
    "    .format(\"console\") \\\n",
    "    .start()\n",
    "\n",
    "time.sleep(10)\n",
    "query.stop()\n"
   ]
  },
  {
   "cell_type": "markdown",
   "id": "b164a982",
   "metadata": {},
   "source": [
    "## Create a structured schema for the streamed data\n",
    "\n",
    "Use objects like ```StructType```, ```StructField```, ```IntegerType```, ```BooleanType```, etc to create the schema. Afterwards apply the schema to the DataFrame."
   ]
  },
  {
   "cell_type": "code",
   "execution_count": 15,
   "id": "e83fadc8",
   "metadata": {
    "ExecuteTime": {
     "end_time": "2025-06-12T09:03:04.628582Z",
     "start_time": "2025-06-12T09:03:04.556883Z"
    }
   },
   "outputs": [],
   "source": [
    "# TODO\n",
    "from pyspark.sql.types import StructType, StructField, IntegerType, StringType, BooleanType\n",
    "\n",
    "schema = StructType([\n",
    "    StructField(\"title\", IntegerType()),\n",
    "    StructField(\"artist\", StringType()),\n",
    "    StructField(\"duration\", IntegerType()),\n",
    "    StructField(\"explicit\", BooleanType())\n",
    "])\n",
    "from pyspark.sql.functions import col, from_json\n",
    "\n",
    "df_kafka_raw = spark.readStream \\\n",
    "    .format(\"kafka\") \\\n",
    "    .option(\"kafka.bootstrap.servers\", \"localhost:9092\") \\\n",
    "    .option(\"subscribe\", \"music_data\") \\\n",
    "    .load()\n",
    "\n",
    "df_parsed = df_kafka_raw.selectExpr(\"CAST(value AS STRING) as json_str\") \\\n",
    "    .select(from_json(col(\"json_str\"), schema).alias(\"data\")) \\\n",
    "    .select(\"data.*\")"
   ]
  },
  {
   "cell_type": "markdown",
   "id": "ff75d46d",
   "metadata": {},
   "source": [
    "## Create a DataFrame grouped by a time window\n",
    "E.g., the number of messages of the different types over the last minute."
   ]
  },
  {
   "cell_type": "code",
   "execution_count": 16,
   "id": "ada1a637",
   "metadata": {
    "ExecuteTime": {
     "end_time": "2025-06-12T09:03:31.064913Z",
     "start_time": "2025-06-12T09:03:10.899940Z"
    }
   },
   "outputs": [],
   "source": [
    "from pyspark.sql.functions import from_json, col, window\n",
    "from pyspark.sql.types import StructType, StringType, IntegerType, BooleanType\n",
    "import time\n",
    "\n",
    "schema = StructType() \\\n",
    "    .add(\"title\", StringType()) \\\n",
    "    .add(\"artist\", StringType()) \\\n",
    "    .add(\"duration\", IntegerType()) \\\n",
    "    .add(\"explicit\", BooleanType())\n",
    "\n",
    "df_parsed = spark.readStream \\\n",
    "    .format(\"kafka\") \\\n",
    "    .option(\"kafka.bootstrap.servers\", \"localhost:9092\") \\\n",
    "    .option(\"subscribe\", \"music_data\") \\\n",
    "    .option(\"startingOffsets\", \"earliest\") \\\n",
    "    .load() \\\n",
    "    .selectExpr(\"CAST(value AS STRING)\", \"timestamp\") \\\n",
    "    .select(from_json(col(\"value\"), schema).alias(\"data\"), col(\"timestamp\")) \\\n",
    "    .select(\"data.*\", \"timestamp\")\n",
    "\n",
    "df_windowed = df_parsed \\\n",
    "    .withWatermark(\"timestamp\", \"1 minute\") \\\n",
    "    .groupBy(window(col(\"timestamp\"), \"1 minute\"), col(\"artist\")) \\\n",
    "    .count()\n",
    "\n",
    "query = df_windowed.writeStream \\\n",
    "    .outputMode(\"complete\") \\\n",
    "    .format(\"console\") \\\n",
    "    .option(\"truncate\", False) \\\n",
    "    .option(\"checkpointLocation\", \"file:///C:/Users/pinar/tmp/spark-window-checkpoint\") \\\n",
    "    .start()\n",
    "\n",
    "time.sleep(20)\n",
    "query.stop()"
   ]
  },
  {
   "cell_type": "markdown",
   "id": "95b2b327",
   "metadata": {},
   "source": [
    "## Create a query stream of the DataFrame\n",
    "Write the output of the DataFrame to a memory sink of your choice. Use the ```start()``` method to actually start the stream processing."
   ]
  },
  {
   "cell_type": "code",
   "execution_count": 18,
   "id": "b136ad55",
   "metadata": {
    "ExecuteTime": {
     "end_time": "2025-06-12T09:04:14.052519Z",
     "start_time": "2025-06-12T09:04:03.569595Z"
    }
   },
   "outputs": [
    {
     "name": "stdout",
     "output_type": "stream",
     "text": [
      "+----------------------------+----------------+\n",
      "|title                       |artist          |\n",
      "+----------------------------+----------------+\n",
      "|Blinding Lights             |The Weeknd      |\n",
      "|Watermelon Sugar            |Harry Styles    |\n",
      "|Mood (feat. iann dior)      |24kGoldn        |\n",
      "|Someone You Loved           |Lewis Capaldi   |\n",
      "|Perfect                     |Ed Sheeran      |\n",
      "|Believer                    |Imagine Dragons |\n",
      "|lovely (with Khalid)        |Billie Eilish   |\n",
      "|Circles                     |Post Malone     |\n",
      "|Shape of You                |Ed Sheeran      |\n",
      "|Memories                    |Maroon 5        |\n",
      "|Closer                      |The Chainsmokers|\n",
      "|bad guy                     |Billie Eilish   |\n",
      "|Say You Won't Let Go        |James Arthur    |\n",
      "|Lucid Dreams                |Juice WRLD      |\n",
      "|All of Me                   |John Legend     |\n",
      "|7 rings                     |Ariana Grande   |\n",
      "|Jocelyn Flores              |XXXTENTACION    |\n",
      "|goosebumps                  |Travis Scott    |\n",
      "|Wake Me Up                  |Avicii          |\n",
      "|ROCKSTAR (feat. Roddy Ricch)|DaBaby          |\n",
      "+----------------------------+----------------+\n",
      "only showing top 20 rows\n",
      "\n"
     ]
    }
   ],
   "source": [
    "import time\n",
    "from pyspark.sql.functions import col, from_json\n",
    "from pyspark.sql.types import StructType, StructField, StringType, BooleanType\n",
    "\n",
    "schema = StructType([\n",
    "    StructField(\"title\", StringType()),\n",
    "    StructField(\"artist\", StringType()),\n",
    "])\n",
    "\n",
    "df_raw = spark.readStream \\\n",
    "    .format(\"kafka\") \\\n",
    "    .option(\"kafka.bootstrap.servers\", \"localhost:9092\") \\\n",
    "    .option(\"subscribe\", \"music_data\") \\\n",
    "    .option(\"startingOffsets\", \"earliest\") \\\n",
    "    .load()\n",
    "\n",
    "df_strings = df_raw.selectExpr(\"CAST(value AS STRING)\")\n",
    "\n",
    "df_parsed = df_strings \\\n",
    "    .select(from_json(col(\"value\"), schema).alias(\"data\")) \\\n",
    "    .select(\"data.*\")\n",
    "\n",
    "query = df_parsed.writeStream \\\n",
    "    .format(\"memory\") \\\n",
    "    .outputMode(\"append\") \\\n",
    "    .queryName(\"messages_table\") \\\n",
    "    .start()\n",
    "\n",
    "time.sleep(10)\n",
    "query.stop()\n",
    "\n",
    "spark.sql(\"SELECT * FROM messages_table\").show(truncate=False)\n"
   ]
  },
  {
   "cell_type": "markdown",
   "id": "9046399b",
   "metadata": {},
   "source": [
    "## Export the processed data as a Pandas DataFrame and visualize it"
   ]
  },
  {
   "cell_type": "code",
   "execution_count": 19,
   "id": "415318b9",
   "metadata": {
    "ExecuteTime": {
     "end_time": "2025-06-12T09:05:19.803933Z",
     "start_time": "2025-06-12T09:05:07.481331Z"
    }
   },
   "outputs": [
    {
     "data": {
      "image/png": "[encoded data removed]",
      "text/plain": [
       "<Figure size 1000x500 with 1 Axes>"
      ]
     },
     "metadata": {},
     "output_type": "display_data"
    }
   ],
   "source": [
    "import time\n",
    "import pandas as pd\n",
    "import matplotlib.pyplot as plt\n",
    "from pyspark.sql import SparkSession\n",
    "from pyspark.sql.functions import col, from_json\n",
    "from pyspark.sql.types import StructType, StructField, StringType, IntegerType, BooleanType\n",
    "\n",
    "schema = StructType([\n",
    "    StructField(\"title\", StringType()),\n",
    "    StructField(\"artist\", StringType()),\n",
    "    StructField(\"duration\", IntegerType()),\n",
    "    StructField(\"explicit\", BooleanType())\n",
    "])\n",
    "\n",
    "df_raw = spark.readStream \\\n",
    "    .format(\"kafka\") \\\n",
    "    .option(\"kafka.bootstrap.servers\", \"localhost:9092\") \\\n",
    "    .option(\"subscribe\", \"music_data\") \\\n",
    "    .option(\"startingOffsets\", \"earliest\") \\\n",
    "    .load()\n",
    "\n",
    "df_parsed = df_raw.selectExpr(\"CAST(value AS STRING)\") \\\n",
    "    .select(from_json(col(\"value\"), schema).alias(\"data\")) \\\n",
    "    .select(\"data.*\")\n",
    "\n",
    "query = df_parsed.writeStream \\\n",
    "    .format(\"memory\") \\\n",
    "    .queryName(\"songs_table\") \\\n",
    "    .outputMode(\"append\") \\\n",
    "    .start()\n",
    "\n",
    "time.sleep(10)\n",
    "query.stop()\n",
    "\n",
    "df_spark = spark.sql(\"SELECT * FROM songs_table\")\n",
    "df_pandas = df_spark.toPandas()\n",
    "\n",
    "df_grouped = df_pandas[\"artist\"].value_counts().head(10)\n",
    "\n",
    "plt.figure(figsize=(10, 5))\n",
    "df_grouped.plot(kind=\"bar\")\n",
    "plt.title(\"Top 10 meistvorkommende Artists\")\n",
    "plt.xlabel(\"Artist\")\n",
    "plt.ylabel(\"Anzahl\")\n",
    "plt.xticks(rotation=45)\n",
    "plt.tight_layout()\n",
    "plt.show()"
   ]
  },
  {
   "cell_type": "code",
   "execution_count": 5,
   "id": "7a62d9f3fedb1a4e",
   "metadata": {
    "ExecuteTime": {
     "end_time": "2025-06-12T10:58:15.941795Z",
     "start_time": "2025-06-12T10:58:15.911505Z"
    }
   },
   "outputs": [
    {
     "ename": "NameError",
     "evalue": "name 'spark' is not defined",
     "output_type": "error",
     "traceback": [
      "\u001b[1;31m---------------------------------------------------------------------------\u001b[0m",
      "\u001b[1;31mNameError\u001b[0m                                 Traceback (most recent call last)",
      "Cell \u001b[1;32mIn[5], line 1\u001b[0m\n\u001b[1;32m----> 1\u001b[0m \u001b[38;5;28mprint\u001b[39m(\u001b[43mspark\u001b[49m\u001b[38;5;241m.\u001b[39mversion)\n\u001b[0;32m      2\u001b[0m \u001b[38;5;28mprint\u001b[39m(spark\u001b[38;5;241m.\u001b[39msparkContext\u001b[38;5;241m.\u001b[39mmaster)\n",
      "\u001b[1;31mNameError\u001b[0m: name 'spark' is not defined"
     ]
    }
   ],
   "source": [
    "print(spark.version)\n",
    "print(spark.sparkContext.master)\n"
   ]
  },
  {
   "cell_type": "code",
   "execution_count": 4,
   "id": "384ff3fa1f095ffc",
   "metadata": {
    "ExecuteTime": {
     "end_time": "2025-06-12T10:58:12.852093Z",
     "start_time": "2025-06-12T10:58:12.786164Z"
    }
   },
   "outputs": [
    {
     "ename": "NameError",
     "evalue": "name 'spark' is not defined",
     "output_type": "error",
     "traceback": [
      "\u001b[1;31m---------------------------------------------------------------------------\u001b[0m",
      "\u001b[1;31mNameError\u001b[0m                                 Traceback (most recent call last)",
      "Cell \u001b[1;32mIn[4], line 1\u001b[0m\n\u001b[1;32m----> 1\u001b[0m \u001b[43mspark\u001b[49m\u001b[38;5;241m.\u001b[39mstop()\n",
      "\u001b[1;31mNameError\u001b[0m: name 'spark' is not defined"
     ]
    }
   ],
   "source": [
    "spark.stop()"
   ]
  }
 ],
 "metadata": {
  "kernelspec": {
   "display_name": "Python (Kafka Spark)",
   "language": "python",
   "name": "kafka_env"
  },
  "language_info": {
   "codemirror_mode": {
    "name": "ipython",
    "version": 3
   },
   "file_extension": ".py",
   "mimetype": "text/x-python",
   "name": "python",
   "nbconvert_exporter": "python",
   "pygments_lexer": "ipython3",
   "version": "3.10.0"
  }
 },
 "nbformat": 4,
 "nbformat_minor": 5
}
