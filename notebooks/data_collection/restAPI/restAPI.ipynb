{
 "cells": [
  {
   "metadata": {},
   "cell_type": "markdown",
   "source": "# Daten von Songs über API abrufen",
   "id": "8a77807f92f26ee"
  },
  {
   "metadata": {},
   "cell_type": "markdown",
   "source": [
    "### REST API-Nutzung: Last.fm API\n",
    "- Die Daten stammen von der öffentlichen Last.fm-API.\n",
    "- Für den Zugriff wurde ein API-Key verwendet (Client-Zugriff ohne OAuth).\n",
    "- Die Daten wurden über zwei Endpunkte abgefragt:\n",
    "  - `chart.gettoptracks` für populäre Songs\n",
    "  - `track.search` für einzelne Track-Details\n",
    "- Die Antwort wurde als JSON empfangen und per `.json()` in Python verarbeitet.\n",
    "- Die Ergebnisse wurden in ein CSV exportiert.\n"
   ],
   "id": "a712f90bd0dd501a"
  },
  {
   "metadata": {
    "ExecuteTime": {
     "end_time": "2025-06-15T20:40:38.947132Z",
     "start_time": "2025-06-15T20:40:32.667951Z"
    }
   },
   "cell_type": "code",
   "source": "!pip install requests pandas",
   "id": "5cdf13b770d902cf",
   "outputs": [
    {
     "name": "stdout",
     "output_type": "stream",
     "text": [
      "Requirement already satisfied: requests in c:\\users\\pinar\\anaconda2\\lib\\site-packages (2.32.3)\n",
      "Requirement already satisfied: pandas in c:\\users\\pinar\\anaconda2\\lib\\site-packages (2.2.3)\n",
      "Requirement already satisfied: charset-normalizer<4,>=2 in c:\\users\\pinar\\anaconda2\\lib\\site-packages (from requests) (3.3.2)\n",
      "Requirement already satisfied: idna<4,>=2.5 in c:\\users\\pinar\\anaconda2\\lib\\site-packages (from requests) (3.7)\n",
      "Requirement already satisfied: urllib3<3,>=1.21.1 in c:\\users\\pinar\\anaconda2\\lib\\site-packages (from requests) (2.2.3)\n",
      "Requirement already satisfied: certifi>=2017.4.17 in c:\\users\\pinar\\anaconda2\\lib\\site-packages (from requests) (2025.4.26)\n",
      "Requirement already satisfied: numpy>=1.26.0 in c:\\users\\pinar\\anaconda2\\lib\\site-packages (from pandas) (2.2.3)\n",
      "Requirement already satisfied: python-dateutil>=2.8.2 in c:\\users\\pinar\\anaconda2\\lib\\site-packages (from pandas) (2.9.0.post0)\n",
      "Requirement already satisfied: pytz>=2020.1 in c:\\users\\pinar\\anaconda2\\lib\\site-packages (from pandas) (2025.1)\n",
      "Requirement already satisfied: tzdata>=2022.7 in c:\\users\\pinar\\anaconda2\\lib\\site-packages (from pandas) (2025.1)\n",
      "Requirement already satisfied: six>=1.5 in c:\\users\\pinar\\anaconda2\\lib\\site-packages (from python-dateutil>=2.8.2->pandas) (1.17.0)\n"
     ]
    }
   ],
   "execution_count": 4
  },
  {
   "metadata": {
    "ExecuteTime": {
     "end_time": "2025-06-15T20:47:51.131557Z",
     "start_time": "2025-06-15T20:47:00.222387Z"
    }
   },
   "cell_type": "code",
   "source": [
    "import requests\n",
    "import pandas as pd\n",
    "\n",
    "import requests\n",
    "\n",
    "API_KEY = \"767b0ae3f48164448f5ef3f525c631ed\"\n",
    "url = f\"https://ws.audioscrobbler.com/2.0/?method=chart.gettoptracks&api_key={API_KEY}&format=json&limit=100\"\n",
    "\n",
    "response = requests.get(url)\n",
    "data = response.json()\n",
    "\n",
    "\n",
    "songs = [track['name'] for track in data['tracks']['track']]\n",
    "\n",
    "print(\"Top 10 Songs:\\n\", songs[:10])\n",
    "\n",
    "\n",
    "track_data = []\n",
    "\n",
    "\n",
    "for song in songs:\n",
    "    url = f\"https://ws.audioscrobbler.com/2.0/?method=track.search&track={song}&api_key={API_KEY}&format=json&limit=1\"\n",
    "    response = requests.get(url)\n",
    "    data = response.json()\n",
    "\n",
    "    try:\n",
    "        track = data[\"results\"][\"trackmatches\"][\"track\"][0]\n",
    "        track_data.append({\n",
    "            \"Track\": track[\"name\"],\n",
    "            \"Artist\": track[\"artist\"],\n",
    "            \"Listeners\": track[\"listeners\"],\n",
    "            \"URL\": track[\"url\"]\n",
    "        })\n",
    "    except (IndexError, KeyError):\n",
    "        print(f\"Kein Ergebnis für: {song}\")\n",
    "\n",
    "\n",
    "df = pd.DataFrame(track_data)\n",
    "df.to_csv(\"lastfm_tracks.csv\", index=False)\n",
    "\n",
    "\n",
    "print(df)\n",
    "print(f\"\\n{len(df)} Songs gespeichert in 'lastfm_tracks.csv'\")\n"
   ],
   "id": "7df9140457caed5e",
   "outputs": [
    {
     "name": "stdout",
     "output_type": "stream",
     "text": [
      "Top 10 Songs:\n",
      " ['Good Luck, Babe!', 'BIRDS OF A FEATHER', 'Party 4 U', 'See You Again (feat. Kali Uchis)', 'back to friends', 'No One Noticed', 'Manchild', 'espresso', 'undressed', 'Creep']\n",
      "                                       Track              Artist Listeners  \\\n",
      "0                           Good Luck, Babe!       Chappell Roan   1683677   \n",
      "1                         BIRDS OF A FEATHER       Billie Eilish   1785566   \n",
      "2                                  Party 4 U          Charli XCX    767993   \n",
      "3           See You Again (feat. Kali Uchis)  Tyler, the Creator   2112467   \n",
      "4                            back to friends               Sombr    556017   \n",
      "..                                       ...                 ...       ...   \n",
      "95  Why'd You Only Call Me When You're High?      Arctic Monkeys   2284158   \n",
      "96                        Fake Plastic Trees           Radiohead   1970963   \n",
      "97                 Cigarettes out the Window             TV Girl   1285098   \n",
      "98                           Flashing Lights          Kanye West   1815248   \n",
      "99                                       B2b          Charli XCX    835699   \n",
      "\n",
      "                                                  URL  \n",
      "0   https://www.last.fm/music/Chappell+Roan/_/Good...  \n",
      "1   https://www.last.fm/music/Billie+Eilish/_/BIRD...  \n",
      "2    https://www.last.fm/music/Charli+XCX/_/Party+4+U  \n",
      "3   https://www.last.fm/music/Tyler,+the+Creator/_...  \n",
      "4   https://www.last.fm/music/Sombr/_/back+to+friends  \n",
      "..                                                ...  \n",
      "95  https://www.last.fm/music/Arctic+Monkeys/_/Why...  \n",
      "96  https://www.last.fm/music/Radiohead/_/Fake+Pla...  \n",
      "97  https://www.last.fm/music/TV+Girl/_/Cigarettes...  \n",
      "98  https://www.last.fm/music/Kanye+West/_/Flashin...  \n",
      "99         https://www.last.fm/music/Charli+XCX/_/B2b  \n",
      "\n",
      "[100 rows x 4 columns]\n",
      "\n",
      "100 Songs gespeichert in 'lastfm_tracks.csv'\n"
     ]
    }
   ],
   "execution_count": 7
  }
 ],
 "metadata": {
  "kernelspec": {
   "display_name": "Python 3",
   "language": "python",
   "name": "python3"
  },
  "language_info": {
   "codemirror_mode": {
    "name": "ipython",
    "version": 2
   },
   "file_extension": ".py",
   "mimetype": "text/x-python",
   "name": "python",
   "nbconvert_exporter": "python",
   "pygments_lexer": "ipython2",
   "version": "2.7.6"
  }
 },
 "nbformat": 4,
 "nbformat_minor": 5
}
